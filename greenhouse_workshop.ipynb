{
 "cells": [
  {
   "cell_type": "markdown",
   "metadata": {},
   "source": [
    "# <font color=green> Global Warming Science</font>\n",
    "#### https://courses.seas.harvard.edu/climate/eli/Courses/EPS101/"
   ]
  },
  {
   "cell_type": "markdown",
   "metadata": {},
   "source": [
    "# Greenhouse\n",
    "\n",
    "### <font color=red> Please use the template below to answer the workshop questions. \"XX\" indicates places where you need to complete/write code or add a discussion.</font>\n",
    "\n",
    "## your name: first last"
   ]
  },
  {
   "cell_type": "code",
   "execution_count": null,
   "metadata": {},
   "outputs": [],
   "source": [
    "import numpy as np\n",
    "from numpy import linalg\n",
    "import matplotlib.pyplot as plt\n",
    "import matplotlib\n",
    "import pickle\n",
    "from matplotlib.ticker import MultipleLocator\n",
    "import scipy as scipy\n",
    "from scipy import optimize\n",
    "import warnings\n",
    "\n",
    "# load the data from a pickle file:\n",
    "with open('./greenhouse_variables.pickle', 'rb') as file:\n",
    "    d = pickle.load(file)\n",
    "    # print information about each extracted variable:\n",
    "    for key in list(d.keys()):\n",
    "        print(\"extracting pickled variable: name=\", key,\"; size=\", d[key].shape)\n",
    "        #print(\"; type=\",type(d[key]))\n",
    "    globals().update(d)\n"
   ]
  },
  {
   "cell_type": "markdown",
   "metadata": {},
   "source": [
    "### Explanation of variables:\n",
    "\n",
    "**CO2_observed** is a time series of observed CO$_2$, as a function of time in years given by variable **CO2_observed_years**.\n",
    "\n",
    "Similarly, **CO2_rcp*** are time series of projected CO$_2$ according to different RCP scenarios.\n",
    "\n",
    "**OLR_280ppm_CO2_only** is the top-of-the-atmopshere outgoing longwave radiation, with 280 ppm of CO2, as function of **wavenumbers**, that are given by the variable of that name. similarly for **OLR_560ppm_CO2_only**."
   ]
  },
  {
   "cell_type": "markdown",
   "metadata": {},
   "source": [
    "## 1) Observed and projected increase in greenhouse gasses:\n",
    "\n",
    "Plot CO$_2$ since 1850, superimpose the predicted CO$_2$ concentration from the RCP8.5 (sometimes referred to as ``business as usual'') scenario from a previous IPCC report going to 2100."
   ]
  },
  {
   "cell_type": "code",
   "execution_count": null,
   "metadata": {},
   "outputs": [],
   "source": [
    "fig = plt.figure(1,figsize=(3,3),dpi=200)\n",
    "#plt.plot(XX,XX,lw=3,color=\"blue\",label=\"observed CO2\")\n",
    "#plt.plot(XX,XX,lw=1,color=\"red\",label=\"Projected rcp8.5 CO2\")\n",
    "plt.legend()\n",
    "#plt.xlabel(XX)\n",
    "plt.ylabel('CO$_2$ Concentration (ppm)');"
   ]
  },
  {
   "cell_type": "markdown",
   "metadata": {},
   "source": [
    "##  2)  Energy balance model: \n",
    "\n",
    "(a) Calculate  the downwelling LW and absorbed SW at the surface in the two-layer model, using an albedo of 0.25 and an atmospheric emissivity of 0.8."
   ]
  },
  {
   "cell_type": "code",
   "execution_count": null,
   "metadata": {},
   "outputs": [],
   "source": [
    "# constants:\n",
    "S0 = XX  # solar constant\n",
    "albedo = XX # Albedo\n",
    "epsilon = XX # emissivity\n",
    "sigma = XX  # stefan-boltzmann constant\n",
    "\n",
    "\n",
    "# calculate atmospheric temperature T_a:\n",
    "T = XX\n",
    "T_a=XX\n",
    "print(\"T,T_a=\",T,T_a)\n",
    "# answer:\n",
    "LW_down=XX\n",
    "SW_net=XX\n",
    "print(\"LW_down=\",LW_down,\",SW_net=\",SW_net)"
   ]
  },
  {
   "cell_type": "markdown",
   "metadata": {
    "tags": []
   },
   "source": [
    "(b) Modify the 2-layer energy balance model to take into account the absorption of a fraction $\\Delta=0.15$ of the downward shortwave radiation by the atmosphere. Calculate the resulting temperatures, compare to the case of $\\Delta=0$. Use the results to discuss how increased atmospheric aerosol concentrations due to industrial emissions, which increases SW absorption, can mask the surface warming due to CO$_2$ increase."
   ]
  },
  {
   "cell_type": "markdown",
   "metadata": {},
   "source": [
    "## Solution \n",
    "The new energy balance equation for the surface is: \n",
    "\\begin{equation}\\frac{S_0}{4}XX(1-\\alpha) +\\epsilon \\sigma T_a^4 = \\sigma T^4\\end{equation}\n",
    "\n",
    "The new energy balanance equation for the atmosphere is: \n",
    "\\begin{equation}XX + \\epsilon \\sigma T^4 = 2\\epsilon \\sigma T_a^4 \\end{equation}\n",
    "\n",
    "where $T$ is the surface temperature, and $T_a$ is the atmospheric temperature. Substituting the second equation into the first yields:\n",
    "\\begin{equation} XX = \\sigma T^4\\end{equation}\n",
    "Solving for $T$ yields:\n",
    "\\begin{equation}T = \\left[\\frac{XX}{\\sigma(1-\\frac{\\epsilon}{2})} \\right]^{1/4} \\end{equation}"
   ]
  },
  {
   "cell_type": "code",
   "execution_count": null,
   "metadata": {},
   "outputs": [],
   "source": [
    "# evaluating the solution numerically:\n",
    "\n",
    "Delta = .15\n",
    "T = (XX)**(1/4)\n",
    "print('T = ', T)\n",
    "T_a = XX\n",
    "print('T_a = ',T_a)"
   ]
  },
  {
   "cell_type": "markdown",
   "metadata": {},
   "source": [
    "Discussion: XX"
   ]
  },
  {
   "cell_type": "markdown",
   "metadata": {},
   "source": [
    "(c) Consider an abrupt CO$_2$ doubling corresponding to the transition from panel a of Figure 2.4 to panel b. Considering the response of an atmosphere with a continuous vertical temperature profile of a prescribed lapse rate, calculate the increase in the emission height corresponding to an increase in radiative forcing by 4 W\\,m$^{-2}$ assuming a lapse rate of 6.5 K/km."
   ]
  },
  {
   "cell_type": "code",
   "execution_count": null,
   "metadata": {},
   "outputs": [],
   "source": [
    "# first, the temperature decrease required to lower the LW by 4 W/m^2:\n",
    "\n",
    "# The emission height temperature is found by the balance of outgoing \n",
    "# long-wave radiation from the emission height balancing the incoming solar \n",
    "# radiation minus the refelected part.\n",
    "T=XX\n",
    "# Calclate the right value of DeltaT that leads to a 4 W/m^2 change in F:\n",
    "DeltaT=XX\n",
    "print(\"DeltaT=\",DeltaT)\n",
    "# check that radiative forcing changed as expected:\n",
    "print(\"DeltaF=\",sigma*(XX)**4-sigma*XX**4)\n",
    "\n",
    "# now, given a lapse rate of 6.5 K/km, this implies the following change in emission height:\n",
    "print(\"change in emission height (m):\",XX*1000)"
   ]
  },
  {
   "cell_type": "markdown",
   "metadata": {},
   "source": [
    "## 3) Radiative forcing\n",
    "\n",
    "  (a) Explain the upper and lower boundaries of the trapezoidal gap in the shape of the OLR curve around 600-800 cm$^{-1}$ (Figure 2.5b) due to CO$_2$ absorption, in terms of the emission height.\n",
    "  \n",
    "  (b) Plot the OLR in a standard atmosphere in the presence of 280 and 560 ppm CO2, ignoring all other greenhouse gasses.\n",
    "  \n",
    "  (c) Estimate the radiative forcing of 280 ppm of CO$_2$ by fitting a trapezoid to your plotted OLR curve and calculating its area.\n",
    "  \n",
    "  (d) Calculate the radiative forcing due to a doubling of the CO$_2$ from the preindustrial value of 280 ppm, by integrating over the difference of the two OLR curves."
   ]
  },
  {
   "cell_type": "markdown",
   "metadata": {},
   "source": [
    "## Solutions\n",
    "a) XX "
   ]
  },
  {
   "cell_type": "code",
   "execution_count": null,
   "metadata": {},
   "outputs": [],
   "source": [
    "# (b) \n",
    "\n",
    "# Read in pickle data of the two OLR curves and plot\n",
    "fig = plt.figure(1,figsize=(6,4),dpi=300)\n",
    "ax = plt.gca()\n",
    "plt.plot(XX,XX,lw=1,color=\"blue\",label=\"280 ppm\")\n",
    "plt.plot(XX,XX,lw=1,color=\"red\",ls='--',label=\"560 ppm\")\n",
    "plt.xlabel('Wavenumber (cm$^{-1}$)')\n",
    "plt.ylabel('OLR (W/[m$^2$cm$^{-1}$])')\n",
    "\n",
    "# plot tickmarks and grid\n",
    "ax.xaxis.set_minor_locator(MultipleLocator(50))\n",
    "ax.yaxis.set_minor_locator(MultipleLocator(.02))\n",
    "\n",
    "# title and legend:\n",
    "plt.title(\"OLR as function of wavenumber\")\n",
    "plt.grid(which='both',lw=0.25)\n",
    "plt.legend();\n",
    "plt.show();"
   ]
  },
  {
   "cell_type": "markdown",
   "metadata": {},
   "source": [
    "c) We choose the top of the trapezoid as XX. This gives a total height of the trapezoid as XX W/m$^2$. The bottom width is about XX cm$^{-1}$ and the top width is about XX cm$^{-1}$. Thus using the formula for a trapezoid, $A = H * (Base1 + Base2)/2$ we get a radiative forcing of  XX W/m$^2$."
   ]
  },
  {
   "cell_type": "markdown",
   "metadata": {},
   "source": [
    "d) The integral over the OLR curve tells you the total outgoing longwave radiation. The difference between the total OLR with 280ppm and 560ppm gives you the radiative forcing of doubling CO2."
   ]
  },
  {
   "cell_type": "code",
   "execution_count": null,
   "metadata": {},
   "outputs": [],
   "source": [
    "# approximate the integral by a sum:\n",
    "Delta_wavenumber = wavenumbers[1] - wavenumbers[0]\n",
    "RF = Delta_wavenumber*np.sum(XX-XX)\n",
    "print(\"Radiative Forcing: \"+str(round(RF,3))+' W/m^2')"
   ]
  },
  {
   "cell_type": "code",
   "execution_count": null,
   "metadata": {},
   "outputs": [],
   "source": []
  },
  {
   "cell_type": "markdown",
   "metadata": {},
   "source": [
    "## 4) Logarithmic dependence\n",
    "\n",
    "if a doubling of CO$_2$ from 280 ppm to 560 leads to, say, 3 degree warming, what warming do you expect at an equivalent CO$_2$ mixing ratio of 500 ppm? Discuss the fact that warming so far is just over 1.2 degree."
   ]
  },
  {
   "cell_type": "code",
   "execution_count": null,
   "metadata": {},
   "outputs": [],
   "source": [
    "# if the warming for CO2 doubling is 3 degree, we can write the warming as\n",
    "CO2=560\n",
    "DeltaT=XX\n",
    "print(\"CO2=\",CO2,\", DeltaT=\",DeltaT)\n",
    "CO2=500\n",
    "DeltaT=XX\n",
    "print(\"CO2=\",CO2,\", DeltaT=\",DeltaT)"
   ]
  },
  {
   "cell_type": "markdown",
   "metadata": {},
   "source": [
    "**Discussion:** XX"
   ]
  },
  {
   "cell_type": "markdown",
   "metadata": {},
   "source": [
    "## 5) Global warming potential: \n",
    "\n",
    "Suppose the GWP of methane for a time horizon of 100 yr is 34. Assume methane concentration decays exponentially over 12.4 yr (so the decay function is $e^{-t/12.4}$) while that of CO$_2$ decays over 200 yr (e.g., due to dissolution in the ocean; note that while such a timescale is often used, the actual expected residence time of anthropogenic CO$_2$ in the climate system is thousands of years.) (a) How much more efficient is a kilogram of methane at absorbing LW radiation than a kilogram of CO$_2$? (b) Discuss the difference between GWP and absorption efficiency. (c) What is the methane GWP for a time horizon of 500 yr? Explain."
   ]
  },
  {
   "cell_type": "markdown",
   "metadata": {},
   "source": [
    "(a) Reformulate the GWP equation to solve for $a_x/a_r$. \n",
    "\n",
    "XX\n",
    "\n",
    "Therefore, we can conclude that methane molecules absorbs more than XX times more strongly than CO$_2$.\n",
    "\n",
    "(b) XX discuss\n",
    "\n",
    "(c) XX"
   ]
  },
  {
   "cell_type": "markdown",
   "metadata": {},
   "source": [
    "## 6) Water vapor feedback to increased CO$_2$: \n",
    "    \n",
    "Modify the energy balance model equations (2.2) to include the effects of increasing water vapor and calculate the warming as a function of CO$_2$ with and without this feedback as follows. Assume the atmospheric emissivity depends on CO$_2$ and moisture $q(T_a)$ as $\\epsilon({\\mathrm{CO}}{{}_2},q(T_a)) =\\epsilon_0+A\\log_2({\\mathrm{CO}}{{}_2}/280)+B\\log_2({q(T_a)/q(T_{a0})})$, where $\\epsilon_0=0.75$ and $T_{a0}$ is the atmospheric temperature for CO$_2$=280 ppm, and that the atmospheric relative humidity is the same before and after the CO$_2$ change. Find values for $A$ and $B$ such that the warming due to CO$_2$ doubling only is 2$^\\circ$C, and due to both feedbacks is 4$^\\circ$C. Plot $T_a({\\mathrm{CO}}{{}_2})$ for CO$_2$ in the range of 200 to 800 ppm with and without the water vapor feedback."
   ]
  },
  {
   "cell_type": "code",
   "execution_count": null,
   "metadata": {},
   "outputs": [],
   "source": [
    "# constants:\n",
    "albedo = 0.32\n",
    "epsilon_0 = 0.75\n",
    "Pa=500 # mid-atmospheric pressure \n",
    "\n",
    "# atmospheric temperature at 280 ppm:\n",
    "T_a0 = XX\n",
    "\n",
    "# first, find what changes to the emissivity are needed to cause the suggested warmings:\n",
    "# Try different values of A until the temperature rise due to CO2 doubling alone is 2 K:\n",
    "A = XX  # change due to CO2 doubling\n",
    "T_a_2XCO2 = XX # energy balance solution in terms of an emissivity of epsilon0+A\n",
    "print(\"T_a0=\",T_a0,\", T_a_2XCO2=\", T_a_2XCO2)"
   ]
  },
  {
   "cell_type": "markdown",
   "metadata": {},
   "source": [
    "Now find B:"
   ]
  },
  {
   "cell_type": "code",
   "execution_count": null,
   "metadata": {},
   "outputs": [],
   "source": [
    "# help functions: emissivity and saturation specific humidity:\n",
    "def emissivity(CO2,T_a):\n",
    "    # emisivity a function of CO2 and atmc temperature\n",
    "    epsilon=XX\n",
    "    return epsilon\n",
    "\n",
    "def q_sat(T,P):\n",
    "    # saturation specific humidity (g water vapor per g moist air):\n",
    "    # inputs:\n",
    "    # T: temperature, in Kelvin\n",
    "    # P: pressure, in mb\n",
    "    qw=\n",
    "    return qw\n",
    "\n",
    "# the desired temperature with both feedbacks as specified in the question:\n",
    "T_a_2XCO2_water_vapor = T_a_2XCO2+2; \n",
    "\n",
    "# now calculate and plot the temperature as a function of the coefficient B to find \n",
    "# when it reaches the assumed warming:\n",
    "\n",
    "Brange = np.arange(XX)\n",
    "Trange=XX # a array with zeros of the same dimension of Brange, for \n",
    "          # temeprature as a function of B\n",
    "i=-1\n",
    "for B in Brange:\n",
    "    i=i+1\n",
    "    Trange[i]=XX # energy balance solution with appropriate emissivity\n",
    "\n",
    "# Plot:\n",
    "fig = plt.figure(figsize=(6,3),dpi=300)\n",
    "plt.plot(XX \\\n",
    "         , label='temperature with water vapor feedback')\n",
    "plt.plot(XX \\\n",
    "         , label='T_a_2XCO2_water_vapor')\n",
    "plt.legend()\n",
    "plt.show();"
   ]
  },
  {
   "cell_type": "markdown",
   "metadata": {},
   "source": [
    "Use A,B to solve for Ta and plot with and without the water vapor feedback:"
   ]
  },
  {
   "cell_type": "code",
   "execution_count": null,
   "metadata": {},
   "outputs": [],
   "source": [
    "# from the plot, we conclude that\n",
    "B=XX\n",
    "# results in the desired temperature response to CO2 and water vapor.\n",
    "\n",
    "# Now plot the temperature with and without the water vapor \n",
    "# feedback as a function of CO2.\n",
    "\n",
    "# helper function to solve for T_a when emissivity depends on it:\n",
    "def solve_for_T_a(T_a):\n",
    "    # calculate T_a-((S0/4)*(1-albedo)/(sigma*(2-epsilon(CO2,T_a))))**(1/4), \n",
    "    # to be called by scipy.optimize.fsolve in order to find a solution for T_a that satifies \n",
    "    # this equation\n",
    "    equation=XX\n",
    "    return equation\n",
    "\n",
    "\n",
    "# range of CO2 to consider:\n",
    "CO2_range=np.arange(XX)\n",
    "# Prepare arrays for atmospheric temperature response to CO2 \n",
    "# and to both CO2 and water vapor:\n",
    "Ta_CO2_only=XX\n",
    "Ta_both=XX\n",
    "\n",
    "i=-1\n",
    "for CO2 in CO2_range:\n",
    "    i=i+1\n",
    "    B=0; epsilon=emissivity(XX,XX)\n",
    "    Ta_CO2_only[i]=XX\n",
    "    B=XX # from previous cell\n",
    "    x0=XX # initial guess\n",
    "    T_a=optimize.fsolve(solve_for_T_a,x0)\n",
    "    Ta_both[i]=T_a\n",
    "\n",
    "\n",
    "# Plot Ta vs CO2 with and without water vapor feedback:\n",
    "XX\n"
   ]
  }
 ],
 "metadata": {
  "kernelspec": {
   "display_name": "Python 3 (ipykernel)",
   "language": "python",
   "name": "python3"
  },
  "language_info": {
   "codemirror_mode": {
    "name": "ipython",
    "version": 3
   },
   "file_extension": ".py",
   "mimetype": "text/x-python",
   "name": "python",
   "nbconvert_exporter": "python",
   "pygments_lexer": "ipython3",
   "version": "3.11.0"
  }
 },
 "nbformat": 4,
 "nbformat_minor": 4
}
